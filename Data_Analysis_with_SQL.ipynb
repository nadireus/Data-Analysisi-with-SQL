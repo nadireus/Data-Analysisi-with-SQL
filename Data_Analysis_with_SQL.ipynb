{
  "nbformat": 4,
  "nbformat_minor": 0,
  "metadata": {
    "colab": {
      "name": "Data Analysis with SQL.ipynb",
      "provenance": [],
      "collapsed_sections": [],
      "authorship_tag": "ABX9TyPjeon/AGeHeZz0BFyraA9y",
      "include_colab_link": true
    },
    "kernelspec": {
      "name": "python3",
      "display_name": "Python 3"
    },
    "language_info": {
      "name": "python"
    }
  },
  "cells": [
    {
      "cell_type": "markdown",
      "metadata": {
        "id": "view-in-github",
        "colab_type": "text"
      },
      "source": [
        "<a href=\"https://colab.research.google.com/github/nadireus/Data-Analysisi-with-SQL/blob/main/Data_Analysis_with_SQL.ipynb\" target=\"_parent\"><img src=\"https://colab.research.google.com/assets/colab-badge.svg\" alt=\"Open In Colab\"/></a>"
      ]
    },
    {
      "cell_type": "code",
      "metadata": {
        "id": "90_3_Jkrohes"
      },
      "source": [
        "import pandas as pd\n",
        "import sqlite3"
      ],
      "execution_count": 80,
      "outputs": []
    },
    {
      "cell_type": "code",
      "metadata": {
        "id": "1V7JpuxVoh9X"
      },
      "source": [
        "data= sqlite3.connect('example.db')"
      ],
      "execution_count": 81,
      "outputs": []
    },
    {
      "cell_type": "code",
      "metadata": {
        "id": "MgyL83z5oh_2"
      },
      "source": [
        "sql= ''' CREATE TABLE Actions (\n",
        "      Visitor_ID int,\n",
        "      Adv_Type varchar(255),\n",
        "   \t  Action  varchar(255)\n",
        "    \n",
        ");\n",
        "\n",
        "\n",
        "\n",
        "\n",
        "INSERT INTO Actions( Visitor_ID, Adv_Type, Action)\n",
        "VALUES\n",
        "       ('1','A','Left'),\n",
        "       ('2','A','order'),\n",
        "       ('3','B','Left'),\n",
        "       ('4','A','order'),\n",
        "       ('5','A','Review'),\n",
        "       ('6','A','Left'),\n",
        "\t     ('7','B','Left'),\n",
        "\t     ('8','B','order'),\n",
        "       ('9','B','Review'),\n",
        "       ('10','A','Review');\n",
        "\n",
        "'''"
      ],
      "execution_count": 38,
      "outputs": []
    },
    {
      "cell_type": "code",
      "metadata": {
        "id": "h2KJ-UMBoiCJ"
      },
      "source": [
        "cur=data.cursor()"
      ],
      "execution_count": 39,
      "outputs": []
    },
    {
      "cell_type": "code",
      "metadata": {
        "colab": {
          "base_uri": "https://localhost:8080/"
        },
        "id": "m6BMWIFip1NQ",
        "outputId": "7770bd0a-e4ca-4f6e-cb49-49f6863dfcb4"
      },
      "source": [
        "cur.executescript(sql)"
      ],
      "execution_count": 40,
      "outputs": [
        {
          "output_type": "execute_result",
          "data": {
            "text/plain": [
              "<sqlite3.Cursor at 0x7fbff38e2f10>"
            ]
          },
          "metadata": {},
          "execution_count": 40
        }
      ]
    },
    {
      "cell_type": "code",
      "metadata": {
        "id": "aKdHgT1FsDnH"
      },
      "source": [
        "sql = ''' select * from Actions '''"
      ],
      "execution_count": 41,
      "outputs": []
    },
    {
      "cell_type": "code",
      "metadata": {
        "colab": {
          "base_uri": "https://localhost:8080/",
          "height": 357
        },
        "id": "TDhnZHVYsMH-",
        "outputId": "9af359b2-d20a-40a0-fedd-0288673aba7d"
      },
      "source": [
        "pd.read_sql(sql, data)"
      ],
      "execution_count": 42,
      "outputs": [
        {
          "output_type": "execute_result",
          "data": {
            "text/html": [
              "<div>\n",
              "<style scoped>\n",
              "    .dataframe tbody tr th:only-of-type {\n",
              "        vertical-align: middle;\n",
              "    }\n",
              "\n",
              "    .dataframe tbody tr th {\n",
              "        vertical-align: top;\n",
              "    }\n",
              "\n",
              "    .dataframe thead th {\n",
              "        text-align: right;\n",
              "    }\n",
              "</style>\n",
              "<table border=\"1\" class=\"dataframe\">\n",
              "  <thead>\n",
              "    <tr style=\"text-align: right;\">\n",
              "      <th></th>\n",
              "      <th>Visitor_ID</th>\n",
              "      <th>Adv_Type</th>\n",
              "      <th>Action</th>\n",
              "    </tr>\n",
              "  </thead>\n",
              "  <tbody>\n",
              "    <tr>\n",
              "      <th>0</th>\n",
              "      <td>1</td>\n",
              "      <td>A</td>\n",
              "      <td>Left</td>\n",
              "    </tr>\n",
              "    <tr>\n",
              "      <th>1</th>\n",
              "      <td>2</td>\n",
              "      <td>A</td>\n",
              "      <td>order</td>\n",
              "    </tr>\n",
              "    <tr>\n",
              "      <th>2</th>\n",
              "      <td>3</td>\n",
              "      <td>B</td>\n",
              "      <td>Left</td>\n",
              "    </tr>\n",
              "    <tr>\n",
              "      <th>3</th>\n",
              "      <td>4</td>\n",
              "      <td>A</td>\n",
              "      <td>order</td>\n",
              "    </tr>\n",
              "    <tr>\n",
              "      <th>4</th>\n",
              "      <td>5</td>\n",
              "      <td>A</td>\n",
              "      <td>Review</td>\n",
              "    </tr>\n",
              "    <tr>\n",
              "      <th>5</th>\n",
              "      <td>6</td>\n",
              "      <td>A</td>\n",
              "      <td>Left</td>\n",
              "    </tr>\n",
              "    <tr>\n",
              "      <th>6</th>\n",
              "      <td>7</td>\n",
              "      <td>B</td>\n",
              "      <td>Left</td>\n",
              "    </tr>\n",
              "    <tr>\n",
              "      <th>7</th>\n",
              "      <td>8</td>\n",
              "      <td>B</td>\n",
              "      <td>order</td>\n",
              "    </tr>\n",
              "    <tr>\n",
              "      <th>8</th>\n",
              "      <td>9</td>\n",
              "      <td>B</td>\n",
              "      <td>Review</td>\n",
              "    </tr>\n",
              "    <tr>\n",
              "      <th>9</th>\n",
              "      <td>10</td>\n",
              "      <td>A</td>\n",
              "      <td>Review</td>\n",
              "    </tr>\n",
              "  </tbody>\n",
              "</table>\n",
              "</div>"
            ],
            "text/plain": [
              "   Visitor_ID Adv_Type  Action\n",
              "0           1        A    Left\n",
              "1           2        A   order\n",
              "2           3        B    Left\n",
              "3           4        A   order\n",
              "4           5        A  Review\n",
              "5           6        A    Left\n",
              "6           7        B    Left\n",
              "7           8        B   order\n",
              "8           9        B  Review\n",
              "9          10        A  Review"
            ]
          },
          "metadata": {},
          "execution_count": 42
        }
      ]
    },
    {
      "cell_type": "code",
      "metadata": {
        "id": "L1nQig8iwFFR"
      },
      "source": [
        "CREATE VIEW Total_info\n",
        "AS SELECT \n",
        "    Adv_Type,\n",
        "\tCOUNT(CASE WHEN Action = 'Order' then 1 ELSE NULL END) as \"total_order\",\n",
        "    COUNT(Action) as \"total_action\"\n",
        "\tFROM  Actions\t\t\t\t\t\t\t\t\t\t\t\n",
        "\tGROUP BY Adv_Type;"
      ],
      "execution_count": null,
      "outputs": []
    },
    {
      "cell_type": "code",
      "metadata": {
        "id": "JS6y_MMw2LWU"
      },
      "source": [
        "sql = ''' select*from Total_info '''"
      ],
      "execution_count": 83,
      "outputs": []
    },
    {
      "cell_type": "code",
      "metadata": {
        "id": "5ogPXdmCwx0U"
      },
      "source": [
        "sql = ''' SELECT Adv_Type, ROUND((CAST(total_order AS Float)/total_action), 2) as conversion_rate\n",
        "FROM TOtal_info; '''"
      ],
      "execution_count": 82,
      "outputs": []
    },
    {
      "cell_type": "markdown",
      "metadata": {
        "id": "DGynSL9Y13Rh"
      },
      "source": [
        "####          or with one code indicated below we can get the same result"
      ]
    },
    {
      "cell_type": "code",
      "metadata": {
        "id": "fY9W4HDvt1Xq"
      },
      "source": [
        "sql = ''' \n",
        "\n",
        "  SELECT Adv_Type, total_order /total_action as conversion_rate\n",
        "        FROM (SELECT Adv_Type,COUNT(CASE WHEN Action = 'Order' then 1 ELSE NULL END) as \"total_order\", COUNT(Action) as \"total_action\"\n",
        "\t          FROM  Actions\t\t\t\t\t\t\t\t\t\t\t\n",
        "\t          GROUP BY Adv_Type) as Total_info;\n",
        "'''"
      ],
      "execution_count": 69,
      "outputs": []
    }
  ]
}